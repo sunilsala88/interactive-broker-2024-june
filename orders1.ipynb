{
 "cells": [
  {
   "cell_type": "code",
   "execution_count": 5,
   "metadata": {},
   "outputs": [
    {
     "data": {
      "text/plain": [
       "<IB connected to 127.0.0.1:7497 clientId=18>"
      ]
     },
     "execution_count": 5,
     "metadata": {},
     "output_type": "execute_result"
    },
    {
     "name": "stderr",
     "output_type": "stream",
     "text": [
      "Error 321, reqId 44: Error validating request.-'bF' : cause - Invalid side field was entered\n",
      "Canceled order: Trade(contract=Stock(symbol='RELIANCE', exchange='NSE', currency='INR'), order=Order(orderId=44, clientId=18, totalQuantity=1, orderType='MKT'), orderStatus=OrderStatus(orderId=44, status='Cancelled', filled=0.0, remaining=0.0, avgFillPrice=0.0, permId=0, parentId=0, lastFillPrice=0.0, clientId=0, whyHeld='', mktCapPrice=0.0), fills=[], log=[TradeLogEntry(time=datetime.datetime(2024, 6, 15, 13, 55, 22, 658857, tzinfo=datetime.timezone.utc), status='PendingSubmit', message='', errorCode=0), TradeLogEntry(time=datetime.datetime(2024, 6, 15, 13, 55, 22, 708752, tzinfo=datetime.timezone.utc), status='Cancelled', message=\"Error 321, reqId 44: Error validating request.-'bF' : cause - Invalid side field was entered\", errorCode=321)], advancedError='')\n",
      "Error 161, reqId 83: Cancel attempted when order is not in a cancellable state.  Order permId =573727636\n",
      "Canceled order: Trade(contract=Stock(symbol='KOTAKBANK', exchange='NSE', currency='INR'), order=Order(orderId=83, clientId=18, permId=573727636, action='SELL', totalQuantity=1.0, orderType='LMT', lmtPrice=1730.0, auxPrice=0.0), orderStatus=OrderStatus(orderId=83, status='Cancelled', filled=0.0, remaining=1.0, avgFillPrice=0.0, permId=573727636, parentId=0, lastFillPrice=0.0, clientId=18, whyHeld='', mktCapPrice=0.0), fills=[], log=[TradeLogEntry(time=datetime.datetime(2024, 6, 15, 14, 4, 33, 131994, tzinfo=datetime.timezone.utc), status='PendingSubmit', message='', errorCode=0), TradeLogEntry(time=datetime.datetime(2024, 6, 15, 14, 4, 33, 396368, tzinfo=datetime.timezone.utc), status='PreSubmitted', message='', errorCode=0), TradeLogEntry(time=datetime.datetime(2024, 6, 15, 14, 4, 33, 399624, tzinfo=datetime.timezone.utc), status='Submitted', message='', errorCode=0), TradeLogEntry(time=datetime.datetime(2024, 6, 15, 14, 13, 0, 888144, tzinfo=datetime.timezone.utc), status='Cancelled', message='Error 161, reqId 83: Cancel attempted when order is not in a cancellable state.  Order permId =573727636', errorCode=161)], advancedError='')\n",
      "Error 103, reqId 88: Duplicate order id\n"
     ]
    },
    {
     "name": "stdout",
     "output_type": "stream",
     "text": [
      "Trade(contract=Stock(symbol='ADANIENT', exchange='NSE', currency='INR'), order=Order(orderId=100, clientId=18, permId=573727652, action='BUY', totalQuantity=1.0, orderType='STP', lmtPrice=0.0, auxPrice=830.0), orderStatus=OrderStatus(orderId=100, status='PreSubmitted', filled=0.0, remaining=1.0, avgFillPrice=0.0, permId=573727652, parentId=0, lastFillPrice=0.0, clientId=18, whyHeld='trigger', mktCapPrice=0.0), fills=[], log=[TradeLogEntry(time=datetime.datetime(2024, 6, 15, 14, 29, 54, 632111, tzinfo=datetime.timezone.utc), status='PendingSubmit', message='', errorCode=0), TradeLogEntry(time=datetime.datetime(2024, 6, 15, 14, 29, 54, 878951, tzinfo=datetime.timezone.utc), status='PreSubmitted', message='', errorCode=0)], advancedError='')\n"
     ]
    }
   ],
   "source": [
    "\n",
    "from ib_insync import *\n",
    "util.startLoop()  # uncomment this line when in a notebook\n",
    "\n",
    "ib = IB()\n",
    "ib.connect('127.0.0.1', 7497, clientId=18)"
   ]
  },
  {
   "cell_type": "markdown",
   "metadata": {},
   "source": [
    "# market order"
   ]
  },
  {
   "cell_type": "code",
   "execution_count": 6,
   "metadata": {},
   "outputs": [],
   "source": [
    "mod1=MarketOrder('BUY',1)\n",
    "\n",
    "cont1=Stock('RELIANCE','NSE','INR')"
   ]
  },
  {
   "cell_type": "code",
   "execution_count": 17,
   "metadata": {},
   "outputs": [
    {
     "data": {
      "text/plain": [
       "81"
      ]
     },
     "execution_count": 17,
     "metadata": {},
     "output_type": "execute_result"
    }
   ],
   "source": [
    "ib.client.getReqId()"
   ]
  },
  {
   "cell_type": "code",
   "execution_count": 12,
   "metadata": {},
   "outputs": [],
   "source": [
    "mod2=Order(orderId=ib.client.getReqId(),clientId=18,orderType='MKT',totalQuantity=1,action='SELL')"
   ]
  },
  {
   "cell_type": "code",
   "execution_count": 13,
   "metadata": {},
   "outputs": [
    {
     "name": "stdout",
     "output_type": "stream",
     "text": [
      "Trade(contract=Stock(symbol='RELIANCE', exchange='NSE', currency='INR'), order=Order(orderId=77, clientId=18, action='SELL', totalQuantity=1, orderType='MKT'), orderStatus=OrderStatus(orderId=77, status='PendingSubmit', filled=0.0, remaining=0.0, avgFillPrice=0.0, permId=0, parentId=0, lastFillPrice=0.0, clientId=0, whyHeld='', mktCapPrice=0.0), fills=[], log=[TradeLogEntry(time=datetime.datetime(2024, 6, 15, 13, 56, 35, 540610, tzinfo=datetime.timezone.utc), status='PendingSubmit', message='', errorCode=0)], advancedError='')\n"
     ]
    }
   ],
   "source": [
    "pd1=ib.placeOrder(cont1,mod2)\n",
    "print(pd1)"
   ]
  },
  {
   "cell_type": "markdown",
   "metadata": {},
   "source": [
    "# limit order"
   ]
  },
  {
   "cell_type": "code",
   "execution_count": 18,
   "metadata": {},
   "outputs": [],
   "source": [
    "lo1=LimitOrder(action='BUY',totalQuantity=1,lmtPrice=1720)\n",
    "co1=Stock('KOTAKBANK','NSE','INR')"
   ]
  },
  {
   "cell_type": "code",
   "execution_count": 20,
   "metadata": {},
   "outputs": [],
   "source": [
    "lo2=Order(orderId=ib.client.getReqId(),clientId=18,orderType='LMT',totalQuantity=1,action='SELL',lmtPrice=1730)"
   ]
  },
  {
   "cell_type": "code",
   "execution_count": 21,
   "metadata": {},
   "outputs": [
    {
     "data": {
      "text/plain": [
       "Trade(contract=Stock(symbol='KOTAKBANK', exchange='NSE', currency='INR'), order=Order(orderId=83, clientId=18, action='SELL', totalQuantity=1, orderType='LMT', lmtPrice=1730), orderStatus=OrderStatus(orderId=83, status='PendingSubmit', filled=0.0, remaining=0.0, avgFillPrice=0.0, permId=0, parentId=0, lastFillPrice=0.0, clientId=0, whyHeld='', mktCapPrice=0.0), fills=[], log=[TradeLogEntry(time=datetime.datetime(2024, 6, 15, 14, 4, 33, 131994, tzinfo=datetime.timezone.utc), status='PendingSubmit', message='', errorCode=0)], advancedError='')"
      ]
     },
     "execution_count": 21,
     "metadata": {},
     "output_type": "execute_result"
    }
   ],
   "source": [
    "ib.placeOrder(co1,lo2)"
   ]
  },
  {
   "cell_type": "markdown",
   "metadata": {},
   "source": [
    "# stop order"
   ]
  },
  {
   "cell_type": "code",
   "execution_count": 38,
   "metadata": {},
   "outputs": [],
   "source": [
    "st1=StopOrder('BUY',1,835)\n",
    "ct1=Stock('SBIN','NSE','INR')"
   ]
  },
  {
   "cell_type": "code",
   "execution_count": 40,
   "metadata": {},
   "outputs": [],
   "source": [
    "stop_order_object=Order(orderId=ib.client.getReqId(),orderType='STP',totalQuantity=1,action='BUY',auxPrice=830)"
   ]
  },
  {
   "cell_type": "code",
   "execution_count": 41,
   "metadata": {},
   "outputs": [],
   "source": [
    "stock_name=Stock('ADANIENT','NSE','INR')"
   ]
  },
  {
   "cell_type": "code",
   "execution_count": 42,
   "metadata": {},
   "outputs": [
    {
     "name": "stdout",
     "output_type": "stream",
     "text": [
      "Trade(contract=Stock(symbol='ADANIENT', exchange='NSE', currency='INR'), order=Order(orderId=100, clientId=18, action='BUY', totalQuantity=1, orderType='STP', auxPrice=830), orderStatus=OrderStatus(orderId=100, status='PendingSubmit', filled=0.0, remaining=0.0, avgFillPrice=0.0, permId=0, parentId=0, lastFillPrice=0.0, clientId=0, whyHeld='', mktCapPrice=0.0), fills=[], log=[TradeLogEntry(time=datetime.datetime(2024, 6, 15, 14, 29, 54, 632111, tzinfo=datetime.timezone.utc), status='PendingSubmit', message='', errorCode=0)], advancedError='')\n"
     ]
    },
    {
     "data": {
      "text/plain": [
       "Trade(contract=Stock(symbol='ADANIENT', exchange='NSE', currency='INR'), order=Order(orderId=100, clientId=18, action='BUY', totalQuantity=1, orderType='STP', auxPrice=830), orderStatus=OrderStatus(orderId=100, status='PendingSubmit', filled=0.0, remaining=0.0, avgFillPrice=0.0, permId=0, parentId=0, lastFillPrice=0.0, clientId=0, whyHeld='', mktCapPrice=0.0), fills=[], log=[TradeLogEntry(time=datetime.datetime(2024, 6, 15, 14, 29, 54, 632111, tzinfo=datetime.timezone.utc), status='PendingSubmit', message='', errorCode=0)], advancedError='')"
      ]
     },
     "execution_count": 42,
     "metadata": {},
     "output_type": "execute_result"
    }
   ],
   "source": [
    "ib.placeOrder(stock_name,stop_order_object)"
   ]
  },
  {
   "cell_type": "markdown",
   "metadata": {},
   "source": [
    "# cover order"
   ]
  },
  {
   "cell_type": "code",
   "execution_count": 33,
   "metadata": {},
   "outputs": [
    {
     "name": "stdout",
     "output_type": "stream",
     "text": [
      "Stock(conId=56986798, symbol='ADANIENT', exchange='NSE', primaryExchange='NSE', currency='INR', localSymbol='ADANIENT', tradingClass='ADANIENT')\n",
      "Trade(contract=Stock(conId=56986798, symbol='ADANIENT', exchange='NSE', primaryExchange='NSE', currency='INR', localSymbol='ADANIENT', tradingClass='ADANIENT'), order=Order(orderId=90, clientId=18, action='BUY', totalQuantity=1, orderType='LMT', lmtPrice=3000, transmit=False), orderStatus=OrderStatus(orderId=90, status='PendingSubmit', filled=0.0, remaining=0.0, avgFillPrice=0.0, permId=0, parentId=0, lastFillPrice=0.0, clientId=0, whyHeld='', mktCapPrice=0.0), fills=[], log=[TradeLogEntry(time=datetime.datetime(2024, 6, 15, 14, 19, 58, 662890, tzinfo=datetime.timezone.utc), status='PendingSubmit', message='', errorCode=0)], advancedError='')\n",
      "Trade(contract=Stock(conId=56986798, symbol='ADANIENT', exchange='NSE', primaryExchange='NSE', currency='INR', localSymbol='ADANIENT', tradingClass='ADANIENT'), order=Order(orderId=91, clientId=18, action='SELL', totalQuantity=1, orderType='STP', auxPrice=2990, parentId=90), orderStatus=OrderStatus(orderId=91, status='PendingSubmit', filled=0.0, remaining=0.0, avgFillPrice=0.0, permId=0, parentId=0, lastFillPrice=0.0, clientId=0, whyHeld='', mktCapPrice=0.0), fills=[], log=[TradeLogEntry(time=datetime.datetime(2024, 6, 15, 14, 19, 58, 663909, tzinfo=datetime.timezone.utc), status='PendingSubmit', message='', errorCode=0)], advancedError='')\n"
     ]
    }
   ],
   "source": [
    "price=3000\n",
    "c=ib.qualifyContracts(Stock('ADANIENT','NSE'))[0]\n",
    "print(c)\n",
    "parent = Order(orderId=ib.client.getReqId(),action='BUY',orderType='LMT',totalQuantity=1,lmtPrice=price,transmit = False)\n",
    "\n",
    "\n",
    "stopLoss = Order()\n",
    "stopLoss.orderId = ib.client.getReqId()\n",
    "stopLoss.action = \"SELL\" if parent.action == \"BUY\" else \"BUY\"\n",
    "stopLoss.orderType = \"STP\"\n",
    "stopLoss.auxPrice = price-10\n",
    "stopLoss.totalQuantity = parent.totalQuantity\n",
    "stopLoss.parentId = parent.orderId\n",
    "stopLoss.transmit = True\n",
    "\n",
    "ords=[parent, stopLoss]\n",
    "\n",
    "for o in ords:\n",
    "    trade=ib.placeOrder(c, o)\n",
    "    print(trade)"
   ]
  },
  {
   "cell_type": "markdown",
   "metadata": {},
   "source": [
    "# Bracket order"
   ]
  },
  {
   "cell_type": "code",
   "execution_count": 34,
   "metadata": {},
   "outputs": [
    {
     "name": "stdout",
     "output_type": "stream",
     "text": [
      "Stock(conId=44652000, symbol='RELIANCE', exchange='NSE', primaryExchange='NSE', currency='INR', localSymbol='RELIANCE', tradingClass='RELIANCE')\n",
      "Trade(contract=Stock(conId=44652000, symbol='RELIANCE', exchange='NSE', primaryExchange='NSE', currency='INR', localSymbol='RELIANCE', tradingClass='RELIANCE'), order=Order(orderId=93, clientId=18, action='BUY', totalQuantity=1, orderType='LMT', lmtPrice=2890, transmit=False), orderStatus=OrderStatus(orderId=93, status='PendingSubmit', filled=0.0, remaining=0.0, avgFillPrice=0.0, permId=0, parentId=0, lastFillPrice=0.0, clientId=0, whyHeld='', mktCapPrice=0.0), fills=[], log=[TradeLogEntry(time=datetime.datetime(2024, 6, 15, 14, 22, 31, 604021, tzinfo=datetime.timezone.utc), status='PendingSubmit', message='', errorCode=0)], advancedError='')\n",
      "Trade(contract=Stock(conId=44652000, symbol='RELIANCE', exchange='NSE', primaryExchange='NSE', currency='INR', localSymbol='RELIANCE', tradingClass='RELIANCE'), order=Order(orderId=94, clientId=18, action='SELL', totalQuantity=1, orderType='LMT', lmtPrice=2893, transmit=False, parentId=93), orderStatus=OrderStatus(orderId=94, status='PendingSubmit', filled=0.0, remaining=0.0, avgFillPrice=0.0, permId=0, parentId=0, lastFillPrice=0.0, clientId=0, whyHeld='', mktCapPrice=0.0), fills=[], log=[TradeLogEntry(time=datetime.datetime(2024, 6, 15, 14, 22, 31, 604971, tzinfo=datetime.timezone.utc), status='PendingSubmit', message='', errorCode=0)], advancedError='')\n",
      "Trade(contract=Stock(conId=44652000, symbol='RELIANCE', exchange='NSE', primaryExchange='NSE', currency='INR', localSymbol='RELIANCE', tradingClass='RELIANCE'), order=Order(orderId=95, clientId=18, action='SELL', totalQuantity=1, orderType='STP', auxPrice=2887, parentId=93), orderStatus=OrderStatus(orderId=95, status='PendingSubmit', filled=0.0, remaining=0.0, avgFillPrice=0.0, permId=0, parentId=0, lastFillPrice=0.0, clientId=0, whyHeld='', mktCapPrice=0.0), fills=[], log=[TradeLogEntry(time=datetime.datetime(2024, 6, 15, 14, 22, 31, 605177, tzinfo=datetime.timezone.utc), status='PendingSubmit', message='', errorCode=0)], advancedError='')\n"
     ]
    }
   ],
   "source": [
    "price=2890\n",
    "c=ib.qualifyContracts(Stock('RELIANCE','NSE','INR'))[0]\n",
    "print(c)\n",
    "\n",
    "parent = Order(\n",
    "    orderId=ib.client.getReqId(),\n",
    "    action='BUY',\n",
    "    orderType='LMT',\n",
    "    totalQuantity=1,\n",
    "    lmtPrice=price,\n",
    "    transmit = False)\n",
    "\n",
    "\n",
    "takeProfit = Order()        \n",
    "takeProfit.orderId = ib.client.getReqId()\n",
    "takeProfit.action = \"SELL\" if parent.action == \"BUY\" else \"BUY\"\n",
    "takeProfit.orderType = \"LMT\"\n",
    "takeProfit.totalQuantity = parent.totalQuantity\n",
    "takeProfit.lmtPrice = price+3\n",
    "takeProfit.parentId = parent.orderId\n",
    "takeProfit.transmit = False\n",
    "\n",
    "\n",
    "stopLoss = Order()\n",
    "stopLoss.orderId = ib.client.getReqId()\n",
    "stopLoss.action = \"SELL\" if parent.action == \"BUY\" else \"BUY\"\n",
    "stopLoss.orderType = \"STP\"\n",
    "stopLoss.auxPrice = price-3\n",
    "stopLoss.totalQuantity = parent.totalQuantity\n",
    "stopLoss.parentId = parent.orderId\n",
    "stopLoss.transmit = True\n",
    "\n",
    "ords=[parent, takeProfit, stopLoss]\n",
    "\n",
    "for o in ords:\n",
    "    trade=ib.placeOrder(c, o)\n",
    "    print(trade)\n"
   ]
  },
  {
   "cell_type": "markdown",
   "metadata": {},
   "source": [
    "# trailing order"
   ]
  },
  {
   "cell_type": "code",
   "execution_count": 36,
   "metadata": {},
   "outputs": [
    {
     "name": "stdout",
     "output_type": "stream",
     "text": [
      "Stock(conId=382750910, symbol='HDFCBANK', exchange='NSE', primaryExchange='NSE', currency='INR', localSymbol='HDFCBANK', tradingClass='HDFCBANK')\n",
      "Trade(contract=Stock(conId=382750910, symbol='HDFCBANK', exchange='NSE', primaryExchange='NSE', currency='INR', localSymbol='HDFCBANK', tradingClass='HDFCBANK'), order=Order(orderId=99, clientId=18, action='SELL', totalQuantity=1, orderType='TRAIL', auxPrice=5, trailStopPrice=1372), orderStatus=OrderStatus(orderId=99, status='PendingSubmit', filled=0.0, remaining=0.0, avgFillPrice=0.0, permId=0, parentId=0, lastFillPrice=0.0, clientId=0, whyHeld='', mktCapPrice=0.0), fills=[], log=[TradeLogEntry(time=datetime.datetime(2024, 6, 15, 14, 28, 28, 821034, tzinfo=datetime.timezone.utc), status='PendingSubmit', message='', errorCode=0)], advancedError='')\n"
     ]
    }
   ],
   "source": [
    "price=1400\n",
    "c=ib.qualifyContracts(Stock('HDFCBANK','NSE'))[0]\n",
    "print(c)\n",
    "\n",
    "order = Order()\n",
    "order.orderId = ib.client.getReqId()\n",
    "order.action = 'SELL'\n",
    "order.orderType = \"TRAIL\"\n",
    "order.totalQuantity = 1\n",
    "order.auxPrice = 5\n",
    "order.trailStopPrice = int(price*0.98)\n",
    "trade=ib.placeOrder(c, order)\n",
    "print(trade)"
   ]
  }
 ],
 "metadata": {
  "kernelspec": {
   "display_name": ".venv",
   "language": "python",
   "name": "python3"
  },
  "language_info": {
   "codemirror_mode": {
    "name": "ipython",
    "version": 3
   },
   "file_extension": ".py",
   "mimetype": "text/x-python",
   "name": "python",
   "nbconvert_exporter": "python",
   "pygments_lexer": "ipython3",
   "version": "3.12.2"
  }
 },
 "nbformat": 4,
 "nbformat_minor": 2
}
