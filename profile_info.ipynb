{
 "cells": [
  {
   "cell_type": "code",
   "execution_count": 2,
   "metadata": {},
   "outputs": [
    {
     "data": {
      "text/plain": [
       "<IB connected to 127.0.0.1:7497 clientId=17>"
      ]
     },
     "execution_count": 2,
     "metadata": {},
     "output_type": "execute_result"
    },
    {
     "name": "stderr",
     "output_type": "stream",
     "text": [
      "Error 1100, reqId -1: Connectivity between IBKR and Trader Workstation has been lost.\n",
      "Error 1100, reqId -1: Connectivity between IBKR and Trader Workstation has been lost.\n",
      "Error 1102, reqId -1: Connectivity between IBKR and Trader Workstation has been restored - data maintained. The following farms are connected: . The following farms are not connected: uscrypto; usfarm.nj; hfarm; usfuture; jfarm; cashfarm; usfarm; euhmds; hkhmds; fundfarm; ushmds; secdefhk.\n",
      "Error 1100, reqId -1: Connectivity between IBKR and Trader Workstation has been lost.\n",
      "Error 1102, reqId -1: Connectivity between IBKR and Trader Workstation has been restored - data maintained. The following farms are connected: . The following farms are not connected: uscrypto; usfarm.nj; hfarm; usfuture; jfarm; cashfarm; usfarm; euhmds; hkhmds; fundfarm; ushmds; secdefhk.\n",
      "Error 1100, reqId -1: Connectivity between IBKR and Trader Workstation has been lost.\n",
      "Error 1102, reqId -1: Connectivity between IBKR and Trader Workstation has been restored - data maintained. All data farms are connected: uscrypto; usfarm.nj; hfarm; usfuture; jfarm; cashfarm; usfarm; euhmds; hkhmds; fundfarm; ushmds; secdefhk.\n",
      "Error 1100, reqId -1: Connectivity between IBKR and Trader Workstation has been lost.\n",
      "Error 1102, reqId -1: Connectivity between IBKR and Trader Workstation has been restored - data maintained. All data farms are connected: uscrypto; usfarm.nj; hfarm; usfuture; jfarm; cashfarm; usfarm; euhmds; hkhmds; fundfarm; ushmds; secdefhk.\n",
      "Error 1100, reqId -1: Connectivity between IBKR and Trader Workstation has been lost.\n",
      "Error 1102, reqId -1: Connectivity between IBKR and Trader Workstation has been restored - data maintained. All data farms are connected: uscrypto; usfarm.nj; hfarm; usfuture; jfarm; cashfarm; usfarm; euhmds; hkhmds; fundfarm; ushmds; secdefhk.\n",
      "Peer closed connection.\n",
      "Future exception was never retrieved\n",
      "future: <Future finished exception=ConnectionError('Socket disconnect')>\n",
      "ConnectionError: Socket disconnect\n",
      "Future exception was never retrieved\n",
      "future: <Future finished exception=ConnectionError('Socket disconnect')>\n",
      "ConnectionError: Socket disconnect\n",
      "Future exception was never retrieved\n",
      "future: <Future finished exception=ConnectionError('Socket disconnect')>\n",
      "ConnectionError: Socket disconnect\n"
     ]
    }
   ],
   "source": [
    "import datetime \n",
    "import time\n",
    "from ib_insync import *\n",
    "import pandas as pd\n",
    "util.startLoop()  # uncomment this line when in a notebook\n",
    "ib = IB()\n",
    "ib.connect('127.0.0.1', 7497, clientId=17)"
   ]
  },
  {
   "cell_type": "markdown",
   "metadata": {},
   "source": [
    "# position"
   ]
  },
  {
   "cell_type": "code",
   "execution_count": 4,
   "metadata": {},
   "outputs": [
    {
     "name": "stdout",
     "output_type": "stream",
     "text": [
      "     account                                           contract  position  \\\n",
      "0  DU6327991  Stock(conId=78743661, symbol='KOTAKBANK', exch...       2.0   \n",
      "1  DU6327991  Stock(conId=175596029, symbol='ICICIBANK', exc...      13.0   \n",
      "2  DU6327991  Stock(conId=56986798, symbol='ADANIENT', excha...     100.0   \n",
      "3  DU6327991  Stock(conId=56985747, symbol='IOC', exchange='...      13.0   \n",
      "4  DU6327991  Stock(conId=132214022, symbol='ASIANPAIN', exc...      12.0   \n",
      "5  DU6327991  Stock(conId=44652040, symbol='ITC', exchange='...      13.0   \n",
      "\n",
      "       avgCost       name  \n",
      "0  1820.152850  KOTAKBANK  \n",
      "1  1123.074831  ICICIBANK  \n",
      "2  3032.340998   ADANIENT  \n",
      "3   170.594808        IOC  \n",
      "4  3005.180675  ASIANPAIN  \n",
      "5   447.609238        ITC  \n"
     ]
    }
   ],
   "source": [
    "pos=ib.reqPositions()\n",
    "if len(pos)==0:\n",
    "    pos_df=pd.DataFrame([])\n",
    "else:\n",
    "    pos_df=util.df(pos)\n",
    "    pos_df['name']=[cont.symbol for cont in pos_df['contract']]\n",
    "    pos_df=pos_df[pos_df['position']>0]\n",
    "print(pos_df)"
   ]
  },
  {
   "cell_type": "code",
   "execution_count": 7,
   "metadata": {},
   "outputs": [
    {
     "data": {
      "text/html": [
       "<div>\n",
       "<style scoped>\n",
       "    .dataframe tbody tr th:only-of-type {\n",
       "        vertical-align: middle;\n",
       "    }\n",
       "\n",
       "    .dataframe tbody tr th {\n",
       "        vertical-align: top;\n",
       "    }\n",
       "\n",
       "    .dataframe thead th {\n",
       "        text-align: right;\n",
       "    }\n",
       "</style>\n",
       "<table border=\"1\" class=\"dataframe\">\n",
       "  <thead>\n",
       "    <tr style=\"text-align: right;\">\n",
       "      <th></th>\n",
       "      <th>account</th>\n",
       "      <th>contract</th>\n",
       "      <th>position</th>\n",
       "      <th>avgCost</th>\n",
       "      <th>name</th>\n",
       "    </tr>\n",
       "  </thead>\n",
       "  <tbody>\n",
       "    <tr>\n",
       "      <th>0</th>\n",
       "      <td>DU6327991</td>\n",
       "      <td>Stock(conId=78743661, symbol='KOTAKBANK', exch...</td>\n",
       "      <td>2.0</td>\n",
       "      <td>1820.152850</td>\n",
       "      <td>KOTAKBANK</td>\n",
       "    </tr>\n",
       "    <tr>\n",
       "      <th>1</th>\n",
       "      <td>DU6327991</td>\n",
       "      <td>Stock(conId=175596029, symbol='ICICIBANK', exc...</td>\n",
       "      <td>13.0</td>\n",
       "      <td>1123.074831</td>\n",
       "      <td>ICICIBANK</td>\n",
       "    </tr>\n",
       "    <tr>\n",
       "      <th>2</th>\n",
       "      <td>DU6327991</td>\n",
       "      <td>Stock(conId=56986798, symbol='ADANIENT', excha...</td>\n",
       "      <td>100.0</td>\n",
       "      <td>3032.340998</td>\n",
       "      <td>ADANIENT</td>\n",
       "    </tr>\n",
       "    <tr>\n",
       "      <th>3</th>\n",
       "      <td>DU6327991</td>\n",
       "      <td>Stock(conId=56985747, symbol='IOC', exchange='...</td>\n",
       "      <td>13.0</td>\n",
       "      <td>170.594808</td>\n",
       "      <td>IOC</td>\n",
       "    </tr>\n",
       "    <tr>\n",
       "      <th>4</th>\n",
       "      <td>DU6327991</td>\n",
       "      <td>Stock(conId=132214022, symbol='ASIANPAIN', exc...</td>\n",
       "      <td>12.0</td>\n",
       "      <td>3005.180675</td>\n",
       "      <td>ASIANPAIN</td>\n",
       "    </tr>\n",
       "    <tr>\n",
       "      <th>5</th>\n",
       "      <td>DU6327991</td>\n",
       "      <td>Stock(conId=44652040, symbol='ITC', exchange='...</td>\n",
       "      <td>13.0</td>\n",
       "      <td>447.609238</td>\n",
       "      <td>ITC</td>\n",
       "    </tr>\n",
       "  </tbody>\n",
       "</table>\n",
       "</div>"
      ],
      "text/plain": [
       "     account                                           contract  position  \\\n",
       "0  DU6327991  Stock(conId=78743661, symbol='KOTAKBANK', exch...       2.0   \n",
       "1  DU6327991  Stock(conId=175596029, symbol='ICICIBANK', exc...      13.0   \n",
       "2  DU6327991  Stock(conId=56986798, symbol='ADANIENT', excha...     100.0   \n",
       "3  DU6327991  Stock(conId=56985747, symbol='IOC', exchange='...      13.0   \n",
       "4  DU6327991  Stock(conId=132214022, symbol='ASIANPAIN', exc...      12.0   \n",
       "5  DU6327991  Stock(conId=44652040, symbol='ITC', exchange='...      13.0   \n",
       "\n",
       "       avgCost       name  \n",
       "0  1820.152850  KOTAKBANK  \n",
       "1  1123.074831  ICICIBANK  \n",
       "2  3032.340998   ADANIENT  \n",
       "3   170.594808        IOC  \n",
       "4  3005.180675  ASIANPAIN  \n",
       "5   447.609238        ITC  "
      ]
     },
     "execution_count": 7,
     "metadata": {},
     "output_type": "execute_result"
    }
   ],
   "source": [
    "df=pd.DataFrame(pos)\n",
    "df['name']=[i.symbol for i in df['contract']]\n",
    "df"
   ]
  },
  {
   "cell_type": "markdown",
   "metadata": {},
   "source": [
    "# open orders"
   ]
  },
  {
   "cell_type": "code",
   "execution_count": 13,
   "metadata": {},
   "outputs": [
    {
     "data": {
      "text/html": [
       "<div>\n",
       "<style scoped>\n",
       "    .dataframe tbody tr th:only-of-type {\n",
       "        vertical-align: middle;\n",
       "    }\n",
       "\n",
       "    .dataframe tbody tr th {\n",
       "        vertical-align: top;\n",
       "    }\n",
       "\n",
       "    .dataframe thead th {\n",
       "        text-align: right;\n",
       "    }\n",
       "</style>\n",
       "<table border=\"1\" class=\"dataframe\">\n",
       "  <thead>\n",
       "    <tr style=\"text-align: right;\">\n",
       "      <th></th>\n",
       "      <th>contract</th>\n",
       "      <th>order</th>\n",
       "      <th>orderStatus</th>\n",
       "      <th>fills</th>\n",
       "      <th>log</th>\n",
       "      <th>advancedError</th>\n",
       "      <th>name</th>\n",
       "    </tr>\n",
       "  </thead>\n",
       "  <tbody>\n",
       "    <tr>\n",
       "      <th>0</th>\n",
       "      <td>Stock(conId=44652017, symbol='INFY', right='?'...</td>\n",
       "      <td>Order(permId=1023337606, action='BUY', totalQu...</td>\n",
       "      <td>OrderStatus(orderId=0, status='Submitted', fil...</td>\n",
       "      <td>[]</td>\n",
       "      <td>[TradeLogEntry(time=datetime.datetime(2024, 6,...</td>\n",
       "      <td></td>\n",
       "      <td>INFY</td>\n",
       "    </tr>\n",
       "  </tbody>\n",
       "</table>\n",
       "</div>"
      ],
      "text/plain": [
       "                                            contract  \\\n",
       "0  Stock(conId=44652017, symbol='INFY', right='?'...   \n",
       "\n",
       "                                               order  \\\n",
       "0  Order(permId=1023337606, action='BUY', totalQu...   \n",
       "\n",
       "                                         orderStatus fills  \\\n",
       "0  OrderStatus(orderId=0, status='Submitted', fil...    []   \n",
       "\n",
       "                                                 log advancedError  name  \n",
       "0  [TradeLogEntry(time=datetime.datetime(2024, 6,...                INFY  "
      ]
     },
     "execution_count": 13,
     "metadata": {},
     "output_type": "execute_result"
    }
   ],
   "source": [
    "ord=ib.reqAllOpenOrders()\n",
    "if len(ord)==0:\n",
    "    ord_df=pd.DataFrame([])\n",
    "else:\n",
    "    ord_df=util.df(ord)\n",
    "    ord_df['name']=[cont.symbol for cont in ord_df['contract']]\n",
    "ord_df"
   ]
  },
  {
   "cell_type": "markdown",
   "metadata": {},
   "source": [
    "# current account balance"
   ]
  },
  {
   "cell_type": "code",
   "execution_count": 14,
   "metadata": {},
   "outputs": [
    {
     "name": "stdout",
     "output_type": "stream",
     "text": [
      "9621054\n"
     ]
    }
   ],
   "source": [
    "capital=int(float([v for v in ib.accountValues() if v.tag == 'AvailableFunds' ][0].value))\n",
    "print(capital)"
   ]
  }
 ],
 "metadata": {
  "kernelspec": {
   "display_name": ".venv",
   "language": "python",
   "name": "python3"
  },
  "language_info": {
   "codemirror_mode": {
    "name": "ipython",
    "version": 3
   },
   "file_extension": ".py",
   "mimetype": "text/x-python",
   "name": "python",
   "nbconvert_exporter": "python",
   "pygments_lexer": "ipython3",
   "version": "3.12.2"
  }
 },
 "nbformat": 4,
 "nbformat_minor": 2
}
