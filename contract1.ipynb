{
 "cells": [
  {
   "cell_type": "code",
   "execution_count": 1,
   "metadata": {},
   "outputs": [
    {
     "data": {
      "text/plain": [
       "<IB connected to 127.0.0.1:7497 clientId=44>"
      ]
     },
     "execution_count": 1,
     "metadata": {},
     "output_type": "execute_result"
    }
   ],
   "source": [
    "from ib_insync import *\n",
    "util.startLoop()  # uncomment this line when in a notebook\n",
    "\n",
    "ib = IB()\n",
    "ib.connect('127.0.0.1', 7497, clientId=354)"
   ]
  },
  {
   "cell_type": "markdown",
   "metadata": {},
   "source": [
    "# stock contract"
   ]
  },
  {
   "cell_type": "code",
   "execution_count": 11,
   "metadata": {},
   "outputs": [
    {
     "name": "stdout",
     "output_type": "stream",
     "text": [
      "Stock(symbol='AMZN', exchange='NYSE', currency='USD')\n",
      "Stock(conId=3691937, symbol='AMZN', exchange='NYSE', primaryExchange='NASDAQ', currency='USD', localSymbol='AMZN', tradingClass='NMS')\n"
     ]
    }
   ],
   "source": [
    "st1=Stock(symbol='AMZN',exchange='NYSE',currency='USD')\n",
    "print(st1)\n",
    "st1=ib.qualifyContracts(st1)[0]\n",
    "print(st1)"
   ]
  },
  {
   "cell_type": "markdown",
   "metadata": {},
   "source": [
    "# Forex Contract"
   ]
  },
  {
   "cell_type": "code",
   "execution_count": 13,
   "metadata": {},
   "outputs": [
    {
     "name": "stdout",
     "output_type": "stream",
     "text": [
      "Forex('EURUSD', conId=12087792, exchange='IDEALPRO', localSymbol='EUR.USD', tradingClass='EUR.USD')\n"
     ]
    }
   ],
   "source": [
    "st2=Forex('EURUSD',exchange='IDEALPRO',currency='USD')\n",
    "st2=ib.qualifyContracts(st2)[0]\n",
    "print(st2)"
   ]
  },
  {
   "cell_type": "markdown",
   "metadata": {},
   "source": [
    "# Crypto contract"
   ]
  },
  {
   "cell_type": "code",
   "execution_count": 14,
   "metadata": {},
   "outputs": [
    {
     "name": "stdout",
     "output_type": "stream",
     "text": [
      "Crypto(conId=479624278, symbol='BTC', exchange='PAXOS', currency='USD', localSymbol='BTC.USD', tradingClass='BTC')\n"
     ]
    }
   ],
   "source": [
    "st3=Crypto('BTC','PAXOS','USD')\n",
    "st3=ib.qualifyContracts(st3)[0]\n",
    "print(st3)"
   ]
  },
  {
   "cell_type": "markdown",
   "metadata": {},
   "source": [
    "# option contract"
   ]
  },
  {
   "cell_type": "code",
   "execution_count": 15,
   "metadata": {},
   "outputs": [
    {
     "name": "stdout",
     "output_type": "stream",
     "text": [
      "Option(conId=694166583, symbol='BANKNIFTY', lastTradeDateOrContractMonth='20240626', strike=49700.0, right='C', multiplier='1', exchange='NSE', currency='INR', localSymbol='BANKNIFTY24JUN49700CE', tradingClass='BANKNIFTY')\n"
     ]
    }
   ],
   "source": [
    "st4=Option(symbol='BANKNIFTY',lastTradeDateOrContractMonth='20240626',strike=49700,right='CALL',exchange='NSE',currency='INR')\n",
    "st4=ib.qualifyContracts(st4)[0]\n",
    "print(st4)"
   ]
  },
  {
   "cell_type": "code",
   "execution_count": 16,
   "metadata": {},
   "outputs": [
    {
     "name": "stdout",
     "output_type": "stream",
     "text": [
      "Option(conId=706165290, symbol='AAPL', lastTradeDateOrContractMonth='20240614', strike=192.5, right='C', multiplier='100', exchange='SMART', currency='USD', localSymbol='AAPL  240614C00192500', tradingClass='AAPL')\n"
     ]
    }
   ],
   "source": [
    "st4=Option(symbol='AAPL',lastTradeDateOrContractMonth='20240614',strike=192.5,right='CALL',exchange='SMART',currency='USD')\n",
    "st4=ib.qualifyContracts(st4)[0]\n",
    "print(st4)"
   ]
  },
  {
   "cell_type": "markdown",
   "metadata": {},
   "source": [
    "# FUTURE CONTRACT"
   ]
  },
  {
   "cell_type": "code",
   "execution_count": 17,
   "metadata": {},
   "outputs": [
    {
     "name": "stdout",
     "output_type": "stream",
     "text": [
      "Future(conId=694262522, symbol='BANKNIFTY', lastTradeDateOrContractMonth='20240626', multiplier='1', exchange='NSE', currency='INR', localSymbol='BANKNIFTY24JUNFUT', tradingClass='BANKNIFTY')\n"
     ]
    }
   ],
   "source": [
    "st5=Future(symbol='BANKNIFTY',lastTradeDateOrContractMonth='20240626',exchange='NSE',currency='INR')\n",
    "st5=ib.qualifyContracts(st5)[0]\n",
    "print(st5)"
   ]
  },
  {
   "cell_type": "code",
   "execution_count": 18,
   "metadata": {},
   "outputs": [
    {
     "name": "stdout",
     "output_type": "stream",
     "text": [
      "Future(conId=551601561, symbol='ES', lastTradeDateOrContractMonth='20240621', multiplier='50', exchange='CME', currency='USD', localSymbol='ESM4', tradingClass='ES')\n"
     ]
    }
   ],
   "source": [
    "st5=Future(symbol='ES',lastTradeDateOrContractMonth='20240621',exchange='CME',currency='USD')\n",
    "st5=ib.qualifyContracts(st5)[0]\n",
    "print(st5)"
   ]
  },
  {
   "cell_type": "code",
   "execution_count": 20,
   "metadata": {},
   "outputs": [
    {
     "name": "stdout",
     "output_type": "stream",
     "text": [
      "Contract(secType='OPT', conId=694166583, symbol='BANKNIFTY', lastTradeDateOrContractMonth='20240626', strike=49700.0, right='C', multiplier='1', exchange='NSE', currency='INR', localSymbol='BANKNIFTY24JUN49700CE', tradingClass='BANKNIFTY')\n"
     ]
    }
   ],
   "source": [
    "ct4=Contract(secType='OPT',symbol='BANKNIFTY',lastTradeDateOrContractMonth='20240626',strike=49700,right='CALL',exchange='NSE',currency='INR')\n",
    "ct4=ib.qualifyContracts(ct4)[0]\n",
    "print(ct4)"
   ]
  },
  {
   "cell_type": "code",
   "execution_count": 19,
   "metadata": {},
   "outputs": [
    {
     "name": "stdout",
     "output_type": "stream",
     "text": [
      "Contract(secType='FUT', conId=551601561, symbol='ES', lastTradeDateOrContractMonth='20240621', multiplier='50', exchange='CME', currency='USD', localSymbol='ESM4', tradingClass='ES')\n"
     ]
    }
   ],
   "source": [
    "ct5=Contract(symbol='ES',lastTradeDateOrContractMonth='20240621',exchange='CME',currency='USD',secType='FUT')\n",
    "ct5=ib.qualifyContracts(ct5)[0]\n",
    "print(ct5)"
   ]
  }
 ],
 "metadata": {
  "kernelspec": {
   "display_name": ".venv",
   "language": "python",
   "name": "python3"
  },
  "language_info": {
   "codemirror_mode": {
    "name": "ipython",
    "version": 3
   },
   "file_extension": ".py",
   "mimetype": "text/x-python",
   "name": "python",
   "nbconvert_exporter": "python",
   "pygments_lexer": "ipython3",
   "version": "3.12.2"
  }
 },
 "nbformat": 4,
 "nbformat_minor": 2
}
